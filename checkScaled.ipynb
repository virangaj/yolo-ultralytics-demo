{
 "cells": [
  {
   "cell_type": "code",
   "execution_count": 1,
   "metadata": {},
   "outputs": [],
   "source": [
    "import cv2"
   ]
  },
  {
   "cell_type": "code",
   "execution_count": 18,
   "metadata": {},
   "outputs": [],
   "source": [
    "image_path = 'F:/AI ML DL Projects/Supports/Yolo object detection/dataset/data/images20/train/035.jpg'\n",
    "image = cv2.imread(image_path)"
   ]
  },
  {
   "cell_type": "code",
   "execution_count": 15,
   "metadata": {},
   "outputs": [],
   "source": [
    "with open('F:/AI ML DL Projects/Supports/Yolo object detection/dataset/data/labels/train/035.txt', 'r') as file:\n",
    "    lines = file.readlines()"
   ]
  },
  {
   "cell_type": "code",
   "execution_count": 19,
   "metadata": {},
   "outputs": [],
   "source": [
    "# Iterate through the lines in the file\n",
    "for line in lines:\n",
    "    values = line.strip().split()  # Split values by spaces\n",
    "    if len(values) != 5:\n",
    "        continue  # Skip lines that don't have 5 values\n",
    "\n",
    "    class_id, center_x, center_y, width, height = map(float, values)\n",
    "\n",
    "    # Get the image dimensions\n",
    "    image_height, image_width, _ = image.shape\n",
    "\n",
    "    # Calculate the absolute coordinates of the bounding box\n",
    "    x1 = int((center_x - width / 2) * image_width)\n",
    "    y1 = int((center_y - height / 2) * image_height)\n",
    "    x2 = int((center_x + width / 2) * image_width)\n",
    "    y2 = int((center_y + height / 2) * image_height)\n",
    "\n",
    "    # Draw a rectangle on the image\n",
    "    color = (0, 255, 0)  # Green color for the bounding box\n",
    "    thickness = 2  # Thickness of the bounding box line\n",
    "    cv2.rectangle(image, (x1, y1), (x2, y2), color, thickness)\n",
    "\n",
    "    # Optionally, add text label for class\n",
    "    label = f\"Class: {int(class_id)}\"\n",
    "    cv2.putText(image, label, (x1, y1 - 10), cv2.FONT_HERSHEY_SIMPLEX, 0.5, color, thickness)\n",
    "\n",
    "# Display the image with bounding boxes\n",
    "cv2.imshow('Image with Bounding Boxes', image)\n",
    "cv2.waitKey(0)\n",
    "cv2.destroyAllWindows()"
   ]
  },
  {
   "cell_type": "code",
   "execution_count": 8,
   "metadata": {},
   "outputs": [],
   "source": [
    "def sliding_window(image, step_size, window_size):\n",
    "    # get the window and image sizes\n",
    "    h, w = window_size\n",
    "    image_h, image_w = image.shape[:2]\n",
    "\n",
    "    # loop over the image, taking steps of size `step_size`\n",
    "    for y in range(0, image_h, step_size):\n",
    "        for x in range(0, image_w, step_size):\n",
    "            # define the window\n",
    "            window = image[y:y + h, x:x + w]\n",
    "            # if the window is below the minimum window size, ignore it\n",
    "            if window.shape[:2] != window_size:\n",
    "                continue\n",
    "            # yield the current window\n",
    "            yield (x, y, window)"
   ]
  },
  {
   "cell_type": "code",
   "execution_count": 9,
   "metadata": {},
   "outputs": [],
   "source": [
    "\n",
    "w, h = 1000 , 1000\n",
    "for (x, y, window) in sliding_window(image, step_size=640, window_size=(w, h)):\n",
    "\n",
    "    # in our case we are just going to display the window, but for a complete\n",
    "    # object detection algorithm, this is where you would classify the window\n",
    "    # using a pre-trained machine learning classifier (e.g., SVM, logistic regression, etc.)\n",
    "\n",
    "    clone = image.copy()\n",
    "    # cv2.rectangle(clone, (x, y), (x + w, y + h), (0, 255, 0), 2)\n",
    "    cropped_region = clone[y:y + h, x:x + w]\n",
    "    cv2.imshow(\"Window\", cropped_region)\n",
    "    cv2.waitKey(100)\n",
    "cv2.destroyAllWindows()"
   ]
  }
 ],
 "metadata": {
  "kernelspec": {
   "display_name": "yolo-ultralytics",
   "language": "python",
   "name": "python3"
  },
  "language_info": {
   "codemirror_mode": {
    "name": "ipython",
    "version": 3
   },
   "file_extension": ".py",
   "mimetype": "text/x-python",
   "name": "python",
   "nbconvert_exporter": "python",
   "pygments_lexer": "ipython3",
   "version": "3.11.5"
  },
  "orig_nbformat": 4
 },
 "nbformat": 4,
 "nbformat_minor": 2
}
