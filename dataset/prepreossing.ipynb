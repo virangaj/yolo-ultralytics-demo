{
 "cells": [
  {
   "cell_type": "code",
   "execution_count": 1,
   "metadata": {},
   "outputs": [],
   "source": [
    "import os\n",
    "import xml.etree.ElementTree as ET"
   ]
  },
  {
   "cell_type": "code",
   "execution_count": 2,
   "metadata": {},
   "outputs": [],
   "source": [
    "# Define the folder containing XML files\n",
    "xml_folder = 'F:/AI ML DL Projects/Supports/Yolo object detection/dataset/data/annots'\n",
    "output_folder = 'F:/AI ML DL Projects/Supports/Yolo object detection/dataset/data/yolo_annots'"
   ]
  },
  {
   "cell_type": "code",
   "execution_count": 3,
   "metadata": {},
   "outputs": [],
   "source": [
    "# Create the output folder if it doesn't exist\n",
    "if not os.path.exists(output_folder):\n",
    "    os.makedirs(output_folder)"
   ]
  },
  {
   "cell_type": "code",
   "execution_count": 5,
   "metadata": {},
   "outputs": [],
   "source": [
    "# Mapping of class labels to integer IDs (customize as needed)\n",
    "class_map = {\n",
    "    'coconut': 0,\n",
    "    'palm': 1,\n",
    "    # Add more classes as needed\n",
    "}"
   ]
  },
  {
   "cell_type": "code",
   "execution_count": 6,
   "metadata": {},
   "outputs": [
    {
     "name": "stdout",
     "output_type": "stream",
     "text": [
      "Conversion complete. YOLO annotation files are saved in the 'yolo_annotations' folder.\n"
     ]
    }
   ],
   "source": [
    "# Iterate through XML files in the folder\n",
    "for xml_file in os.listdir(xml_folder):\n",
    "    if xml_file.endswith('.xml'):\n",
    "        xml_path = os.path.join(xml_folder, xml_file)\n",
    "        \n",
    "        # Parse the XML file\n",
    "        tree = ET.parse(xml_path)\n",
    "        root = tree.getroot()\n",
    "\n",
    "        # Extract image dimensions from the <size> element\n",
    "        size = root.find('size')\n",
    "        image_width = int(size.find('width').text)\n",
    "        image_height = int(size.find('height').text)\n",
    "\n",
    "        # Create a corresponding text file for YOLO annotations\n",
    "        txt_filename = os.path.splitext(xml_file)[0] + '.txt'\n",
    "        txt_path = os.path.join(output_folder, txt_filename)\n",
    "\n",
    "        with open(txt_path, 'w') as txt_file:\n",
    "            # Iterate through object annotations\n",
    "            for object in root.findall('object'):\n",
    "                class_label = object.find('name').text\n",
    "                if class_label in class_map:\n",
    "                    class_id = class_map[class_label]\n",
    "                else:\n",
    "                    # Handle unknown or missing class labels\n",
    "                    class_id = -1\n",
    "\n",
    "                bbox = object.find('bndbox')\n",
    "                xmin = float(bbox.find('xmin').text)\n",
    "                ymin = float(bbox.find('ymin').text)\n",
    "                xmax = float(bbox.find('xmax').text)\n",
    "                ymax = float(bbox.find('ymax').text)\n",
    "\n",
    "                # Normalize coordinates using image dimensions\n",
    "                normalized_x_center = (xmin + xmax) / (2.0 * image_width)\n",
    "                normalized_y_center = (ymin + ymax) / (2.0 * image_height)\n",
    "                normalized_width = (xmax - xmin) / image_width\n",
    "                normalized_height = (ymax - ymin) / image_height\n",
    "\n",
    "                # Write YOLO annotation to the text file\n",
    "                txt_file.write(f'{class_id} {normalized_x_center} {normalized_y_center} {normalized_width} {normalized_height}\\n')\n",
    "\n",
    "print(\"Conversion complete. YOLO annotation files are saved in the 'yolo_annotations' folder.\")"
   ]
  }
 ],
 "metadata": {
  "kernelspec": {
   "display_name": "mask-rcnn",
   "language": "python",
   "name": "python3"
  },
  "language_info": {
   "codemirror_mode": {
    "name": "ipython",
    "version": 3
   },
   "file_extension": ".py",
   "mimetype": "text/x-python",
   "name": "python",
   "nbconvert_exporter": "python",
   "pygments_lexer": "ipython3",
   "version": "3.11.4"
  },
  "orig_nbformat": 4
 },
 "nbformat": 4,
 "nbformat_minor": 2
}
